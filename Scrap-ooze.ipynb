{
 "cells": [
  {
   "cell_type": "code",
   "execution_count": 14,
   "id": "c8bfdb36",
   "metadata": {},
   "outputs": [],
   "source": [
    "import numpy as np\n",
    "import matplotlib.pyplot as plt"
   ]
  },
  {
   "cell_type": "code",
   "execution_count": null,
   "id": "e306b668",
   "metadata": {},
   "outputs": [
    {
     "name": "stdout",
     "output_type": "stream",
     "text": [
      "HP loss before A15:\t [ 3  4  5  6  7  8  9 10 11]\n",
      "HP loss aftere A15:\t [ 5  6  7  8  9 10 11 12 13]\n",
      "Probability of success:\t [0.25 0.35 0.45 0.55 0.65 0.75 0.85 0.95 1.  ]\n"
     ]
    }
   ],
   "source": [
    "HP_loss_A1 = np.arange(3, 12)                           # ith entry is the HP cost on the ith step, on ascensions < 15\n",
    "HP_loss_A20 = np.arange(5, 14)                          # ith entry is the HP cost on the ith step, on ascensions >= 15\n",
    "p_success = np.append(np.arange(0.25, 1, 0.10), [1])    # ith entry is the probability of success on the ith step\n",
    "n = 9                                                   # total number of steps\n",
    "print(\"HP loss before A15:\\t\", HP_loss_A1)\n",
    "print(\"HP loss aftere A15:\\t\", HP_loss_A20)\n",
    "print(\"Probability of success:\\t\", p_success)"
   ]
  },
  {
   "cell_type": "code",
   "execution_count": 126,
   "id": "4b2b6c5c",
   "metadata": {},
   "outputs": [
    {
     "name": "stdout",
     "output_type": "stream",
     "text": [
      "Probability of first success on ith step:\n",
      "step | p\n",
      "-----+--------------------\n",
      "   1 | 0.25\n",
      "   2 | 0.2625\n",
      "   3 | 0.219375\n",
      "   4 | 0.14746875\n",
      "   5 | 0.07842656\n",
      "   6 | 0.03167227\n",
      "   7 | 0.00897381\n",
      "   8 | 0.00150443\n",
      "   9 | 0.00007918\n"
     ]
    }
   ],
   "source": [
    "p_first_success = np.zeros(n, dtype=np.float64)   # ith entry is the probability of failing steps 1..i-1 and succeeding on step i\n",
    "for i in range(n):\n",
    "    p_first_success[i] = p_success[i]\n",
    "    for j in range(i):\n",
    "        p_first_success[i] *= 1 - p_success[j]\n",
    "\n",
    "print(\"Probability of first success on ith step:\")\n",
    "print(\"step | p\")\n",
    "print(\"-----+--------------------\")\n",
    "for i in range(n):\n",
    "    print(f\"   {i+1} | {p_first_success[i]:.8f}\".rstrip('0'))"
   ]
  },
  {
   "cell_type": "code",
   "execution_count": 123,
   "id": "ecfbf0da",
   "metadata": {},
   "outputs": [
    {
     "name": "stdout",
     "output_type": "stream",
     "text": [
      "Probability of failing steps i..j-1 and succeding on step j:\n",
      "   | 1         2         3         4         5         6         7         8         9\n",
      "---+-------------------------------------------------------------------------------------------\n",
      " 1 | 0.25      0.2625    0.219375  0.1474688 0.0784266 0.0316723 0.0089738 0.0015044 0.0000792 \n",
      " 2 | 0         0.35      0.2925    0.196625  0.1045688 0.0422297 0.0119651 0.0020059 0.0001056 \n",
      " 3 | 0         0         0.45      0.3025    0.160875  0.0649688 0.0184078 0.003086  0.0001624 \n",
      " 4 | 0         0         0         0.55      0.2925    0.118125  0.0334688 0.0056109 0.0002953 \n",
      " 5 | 0         0         0         0         0.65      0.2625    0.074375  0.0124688 0.0006563 \n",
      " 6 | 0         0         0         0         0         0.75      0.2125    0.035625  0.001875  \n",
      " 7 | 0         0         0         0         0         0         0.85      0.1425    0.0075    \n",
      " 8 | 0         0         0         0         0         0         0         0.95      0.05      \n",
      " 9 | 0         0         0         0         0         0         0         0         1         \n",
      "\n",
      "HP loss of failing steps i..j-1 and succeding on step j:\n",
      "   |   1  2  3  4  5  6  7  8  9\n",
      "---+-------------------------------------------------------------------------------------------\n",
      " 1 |   3  7 12 18 25 33 42 52 63\n",
      " 2 |   0  4  9 15 22 30 39 49 60\n",
      " 3 |   0  0  5 11 18 26 35 45 56\n",
      " 4 |   0  0  0  6 13 21 30 40 51\n",
      " 5 |   0  0  0  0  7 15 24 34 45\n",
      " 6 |   0  0  0  0  0  8 17 27 38\n",
      " 7 |   0  0  0  0  0  0  9 19 30\n",
      " 8 |   0  0  0  0  0  0  0 10 21\n",
      " 9 |   0  0  0  0  0  0  0  0 11\n"
     ]
    }
   ],
   "source": [
    "p_geometric_subsequence = np.zeros((n,n)) # Probability of failing steps i..j-1 and succeding on step j\n",
    "# Formula: p_geometric subsequence[i][j] = (1 - p_success[i]) * (1 - p_success[i+1]) * ... * (1 - p_success[j-1]) * p_success[j]\n",
    "for i in range(n):\n",
    "    for j in range(i,n):\n",
    "        p_geometric_subsequence[i][j] = p_success[j]\n",
    "        for k in range(i, j):\n",
    "            p_geometric_subsequence[i][j] *= (1-p_success[k])\n",
    "\n",
    "p_geometric_HP_loss = np.zeros((n,n), dtype=np.int64) # HP loss of failing steps i..j-1 and succeding on step j\n",
    "for i in range(n):\n",
    "    for j in range(i,n):\n",
    "        p_geometric_HP_loss[i][j] = sum(HP_loss_A1[i:j+1])\n",
    "\n",
    "print(\"Probability of failing steps i..j-1 and succeding on step j:\")\n",
    "print(\"   | 1         2         3         4         5         6         7         8         9\")\n",
    "print(\"---+-------------------------------------------------------------------------------------------\")\n",
    "for i in range(n):\n",
    "    line = f\" {i+1} | \" \n",
    "    for j in range(n):\n",
    "        temp = f\"{p_geometric_subsequence[i][j]:.7f}\".rstrip('0').rstrip('.')\n",
    "        line += f\"{temp:10}\"\n",
    "    print(line)\n",
    "\n",
    "print()\n",
    "print(\"HP loss of failing steps i..j-1 and succeding on step j:\")\n",
    "print(\"   |   1  2  3  4  5  6  7  8  9\")\n",
    "print(\"---+-------------------------------------------------------------------------------------------\")\n",
    "for i in range(n):\n",
    "    line = f\" {i+1} | \" \n",
    "    for j in range(n):\n",
    "        line += f\"{p_geometric_HP_loss[i][j]:3d}\"\n",
    "    print(line)\n",
    "    \n",
    "# print()\n",
    "# for i in range(n):\n",
    "#     print(f\"Sum of elements on {i+1}th row:\", sum(p_geometric_subsequence[i][:]))"
   ]
  },
  {
   "cell_type": "code",
   "execution_count": 112,
   "id": "b8656767",
   "metadata": {},
   "outputs": [
    {
     "name": "stdout",
     "output_type": "stream",
     "text": [
      "Expected health loss from ith step on A1:\n",
      "step | Expected health loss\n",
      "-----+--------------------\n",
      "   1 | 11.340405166992188\n",
      "   2 | 11.120540222656249\n",
      "   3 | 10.954677265625003\n",
      "   4 | 10.826685937499999\n",
      "   5 | 10.725968750000002\n",
      "   6 | 10.645625000000003\n",
      "   7 | 10.582500000000001\n",
      "   8 | 10.55\n",
      "   9 | 11.0\n"
     ]
    }
   ],
   "source": [
    "Expected_HP_loss_A1 = np.zeros(n)  # ith entry is the expected HP loss until success from the ith step\n",
    "for i in range(n):\n",
    "    # Calculate the expected health loss until success, starting from step i\n",
    "    Expected_HP_loss_A1[i] = 0\n",
    "    for j in range(i, n):\n",
    "        # On step i, you can win at any step from i to n\n",
    "        # Sum the probability of succeeding on jth step * health cost of steps i to j, for each step from i to n\n",
    "        Expected_HP_loss_A1[i] += p_geometric_subsequence[i][j] * sum(HP_loss_A1[i:j+1])\n",
    "\n",
    "print(\"Expected health loss from ith step on A1:\")\n",
    "print(\"step | Expected health loss\")\n",
    "print(\"-----+--------------------\")\n",
    "for i in range(n):\n",
    "    print(f\"   {i+1} | {Expected_HP_loss_A1[i]}\")\n"
   ]
  },
  {
   "cell_type": "code",
   "execution_count": 113,
   "id": "985c2098",
   "metadata": {},
   "outputs": [
    {
     "name": "stdout",
     "output_type": "stream",
     "text": [
      "Expected health loss from ith step on A20:\n",
      "step | Expected health loss\n",
      "-----+--------------------\n",
      "   1 | 16.70186747363281\n",
      "   2 | 15.602489964843752\n",
      "   3 | 14.773061484375003\n",
      "   4 | 14.132839062500002\n",
      "   5 | 13.628531250000002\n",
      "   6 | 13.224375000000002\n",
      "   7 | 12.8975\n",
      "   8 | 12.650000000000002\n",
      "   9 | 13.0\n"
     ]
    }
   ],
   "source": [
    "Expected_HP_loss_A20 = np.zeros(n)  # ith entry is the expected HP loss until success from the ith step\n",
    "for i in range(n):\n",
    "    # Calculate the expected health loss until success, starting from step i\n",
    "    Expected_HP_loss_A20[i] = 0\n",
    "    for j in range(i, n):\n",
    "        # On step i, you can win at any step from i to n\n",
    "        # Sum the probability of succeeding on jth step * health cost of steps i to j, for each step from i to n\n",
    "        Expected_HP_loss_A20[i] += p_geometric_subsequence[i][j] * sum(HP_loss_A20[i:j+1])\n",
    "\n",
    "print(\"Expected health loss from ith step on A20:\")\n",
    "print(\"step | Expected health loss\")\n",
    "print(\"-----+--------------------\")\n",
    "for i in range(n):\n",
    "    print(f\"   {i+1} | {Expected_HP_loss_A20[i]}\")\n"
   ]
  },
  {
   "cell_type": "code",
   "execution_count": null,
   "id": "fed41aca",
   "metadata": {},
   "outputs": [],
   "source": []
  },
  {
   "cell_type": "code",
   "execution_count": null,
   "id": "37b5ebea",
   "metadata": {},
   "outputs": [],
   "source": []
  }
 ],
 "metadata": {
  "kernelspec": {
   "display_name": "Python 3",
   "language": "python",
   "name": "python3"
  },
  "language_info": {
   "codemirror_mode": {
    "name": "ipython",
    "version": 3
   },
   "file_extension": ".py",
   "mimetype": "text/x-python",
   "name": "python",
   "nbconvert_exporter": "python",
   "pygments_lexer": "ipython3",
   "version": "3.13.5"
  }
 },
 "nbformat": 4,
 "nbformat_minor": 5
}
