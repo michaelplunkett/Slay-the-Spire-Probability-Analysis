{
 "cells": [
  {
   "cell_type": "code",
   "execution_count": 2,
   "id": "c8bfdb36",
   "metadata": {},
   "outputs": [],
   "source": [
    "import numpy as np\n",
    "import matplotlib.pyplot as plt"
   ]
  },
  {
   "cell_type": "code",
   "execution_count": 3,
   "id": "e306b668",
   "metadata": {},
   "outputs": [
    {
     "name": "stdout",
     "output_type": "stream",
     "text": [
      "HP loss before A15:\t [ 3  4  5  6  7  8  9 10 11]\n",
      "HP loss after A15:\t [ 5  6  7  8  9 10 11 12 13]\n",
      "Probability of success:\t [0.25 0.35 0.45 0.55 0.65 0.75 0.85 0.95 1.  ]\n"
     ]
    }
   ],
   "source": [
    "HP_loss_A1 = np.arange(3, 12)                           # ith entry is the HP cost on the ith step, on ascensions < 15\n",
    "HP_loss_A20 = np.arange(5, 14)                          # ith entry is the HP cost on the ith step, on ascensions >= 15\n",
    "p_success = np.append(np.arange(0.25, 1, 0.10), [1])    # ith entry is the probability of success on the ith step\n",
    "n = 9                                                   # total number of steps\n",
    "print(\"HP loss before A15:\\t\", HP_loss_A1)\n",
    "print(\"HP loss after A15:\\t\", HP_loss_A20)\n",
    "print(\"Probability of success:\\t\", p_success)"
   ]
  },
  {
   "cell_type": "code",
   "execution_count": 4,
   "id": "ecfbf0da",
   "metadata": {},
   "outputs": [
    {
     "name": "stdout",
     "output_type": "stream",
     "text": [
      "Probability of failing steps i..j-1 and succeding on step j:\n",
      "   | 1         2         3         4         5         6         7         8         9\n",
      "---+-------------------------------------------------------------------------------------------\n",
      " 1 | 0.25      0.2625    0.219375  0.1474688 0.0784266 0.0316723 0.0089738 0.0015044 0.0000792 \n",
      " 2 | 0         0.35      0.2925    0.196625  0.1045688 0.0422297 0.0119651 0.0020059 0.0001056 \n",
      " 3 | 0         0         0.45      0.3025    0.160875  0.0649688 0.0184078 0.003086  0.0001624 \n",
      " 4 | 0         0         0         0.55      0.2925    0.118125  0.0334688 0.0056109 0.0002953 \n",
      " 5 | 0         0         0         0         0.65      0.2625    0.074375  0.0124688 0.0006563 \n",
      " 6 | 0         0         0         0         0         0.75      0.2125    0.035625  0.001875  \n",
      " 7 | 0         0         0         0         0         0         0.85      0.1425    0.0075    \n",
      " 8 | 0         0         0         0         0         0         0         0.95      0.05      \n",
      " 9 | 0         0         0         0         0         0         0         0         1         \n",
      "Cumulative probability of winning on step <= j when starting from step i:\n",
      "   | 1         2         3         4         5         6         7         8         9\n",
      "---+-------------------------------------------------------------------------------------------\n",
      " 1 | 0.25      0.5125    0.731875  0.8793437 0.9577703 0.9894426 0.9984164 0.9999208 1         \n",
      " 2 | 0         0.35      0.6425    0.839125  0.9436937 0.9859234 0.9978885 0.9998944 1         \n",
      " 3 | 0         0         0.45      0.7525    0.913375  0.9783437 0.9967516 0.9998376 1         \n",
      " 4 | 0         0         0         0.55      0.8425    0.960625  0.9940937 0.9997047 1         \n",
      " 5 | 0         0         0         0         0.65      0.9125    0.986875  0.9993437 1         \n",
      " 6 | 0         0         0         0         0         0.75      0.9625    0.998125  1         \n",
      " 7 | 0         0         0         0         0         0         0.85      0.9925    1         \n",
      " 8 | 0         0         0         0         0         0         0         0.95      1         \n",
      " 9 | 0         0         0         0         0         0         0         0         1         \n",
      "\n",
      "HP loss of failing steps i..j-1 and succeding on step j:\n",
      "   |   1  2  3  4  5  6  7  8  9\n",
      "---+-------------------------------------------------------------------------------------------\n",
      " 1 |   3  7 12 18 25 33 42 52 63\n",
      " 2 |   0  4  9 15 22 30 39 49 60\n",
      " 3 |   0  0  5 11 18 26 35 45 56\n",
      " 4 |   0  0  0  6 13 21 30 40 51\n",
      " 5 |   0  0  0  0  7 15 24 34 45\n",
      " 6 |   0  0  0  0  0  8 17 27 38\n",
      " 7 |   0  0  0  0  0  0  9 19 30\n",
      " 8 |   0  0  0  0  0  0  0 10 21\n",
      " 9 |   0  0  0  0  0  0  0  0 11\n"
     ]
    }
   ],
   "source": [
    "subseq_p_win = np.zeros((n,n)) # Probability of failing steps i..j-1 and succeding on step j\n",
    "# Formula: p_geometric subsequence[i][j] = (1 - p_success[i]) * (1 - p_success[i+1]) * ... * (1 - p_success[j-1]) * p_success[j]\n",
    "for i in range(n):\n",
    "    for j in range(i,n):\n",
    "        subseq_p_win[i][j] = p_success[j]\n",
    "        for k in range(i, j):\n",
    "            subseq_p_win[i][j] *= (1-p_success[k])\n",
    "\n",
    "subseq_cum_p_win = np.zeros((n,n)) # Cumulative HP loss of steps i..j\n",
    "for i in range(n):\n",
    "    for j in range(n):\n",
    "        subseq_cum_p_win[i][j] = sum(subseq_p_win[i, 0:j+1])\n",
    "\n",
    "subseq_cum_HP_loss = np.zeros((n,n), dtype=np.int64) # HP loss of steps i..j\n",
    "for i in range(n):\n",
    "    for j in range(i,n):\n",
    "        subseq_cum_HP_loss[i][j] = sum(HP_loss_A1[i:j+1])\n",
    "\n",
    "\n",
    "\n",
    "print(\"Probability of failing steps i..j-1 and succeding on step j:\")\n",
    "print(\"   | 1         2         3         4         5         6         7         8         9\")\n",
    "print(\"---+-------------------------------------------------------------------------------------------\")\n",
    "for i in range(n):\n",
    "    line = f\" {i+1} | \" \n",
    "    for j in range(n):\n",
    "        temp = f\"{subseq_p_win[i][j]:.7f}\".rstrip('0').rstrip('.')\n",
    "        line += f\"{temp:10}\"\n",
    "    print(line)\n",
    "\n",
    "print(\"Cumulative probability of winning on step <= j when starting from step i:\")\n",
    "print(\"   | 1         2         3         4         5         6         7         8         9\")\n",
    "print(\"---+-------------------------------------------------------------------------------------------\")\n",
    "for i in range(n):\n",
    "    line = f\" {i+1} | \" \n",
    "    for j in range(n):\n",
    "        temp = f\"{subseq_cum_p_win[i][j]:.7f}\".rstrip('0').rstrip('.')\n",
    "        line += f\"{temp:10}\"\n",
    "    print(line)\n",
    "\n",
    "print()\n",
    "print(\"HP loss of failing steps i..j-1 and succeding on step j:\")\n",
    "print(\"   |   1  2  3  4  5  6  7  8  9\")\n",
    "print(\"---+-------------------------------------------------------------------------------------------\")\n",
    "for i in range(n):\n",
    "    line = f\" {i+1} | \" \n",
    "    for j in range(n):\n",
    "        line += f\"{subseq_cum_HP_loss[i][j]:3d}\"\n",
    "    print(line)"
   ]
  },
  {
   "cell_type": "code",
   "execution_count": 5,
   "id": "15c39aaf",
   "metadata": {},
   "outputs": [
    {
     "name": "stdout",
     "output_type": "stream",
     "text": [
      "Cumulative HP loss and probability of success of each step, starting from step 1\n",
      "step | HP loss | Probability\n",
      "-----+---------+------------\n",
      "   0 |       3 | 0.250000\n",
      "   1 |       7 | 0.262500\n",
      "   2 |      12 | 0.219375\n",
      "   3 |      18 | 0.147469\n",
      "   4 |      25 | 0.078427\n",
      "   5 |      33 | 0.031672\n",
      "   6 |      42 | 0.008974\n",
      "   7 |      52 | 0.001504\n",
      "   8 |      63 | 0.000079\n",
      "\n",
      "Cumulative HP loss and cumulative probability of success of each step, starting from step 1\n",
      "step | HP loss | Probability\n",
      "-----+---------+------------\n",
      "   0 |       3 | 0.250000\n",
      "   1 |       7 | 0.512500\n",
      "   2 |      12 | 0.731875\n",
      "   3 |      18 | 0.879344\n",
      "   4 |      25 | 0.957770\n",
      "   5 |      33 | 0.989443\n",
      "   6 |      42 | 0.998416\n",
      "   7 |      52 | 0.999921\n",
      "   8 |      63 | 1.000000\n"
     ]
    }
   ],
   "source": [
    "print(\"Cumulative HP loss and probability of success of each step, starting from step 1\")\n",
    "print(\"step | HP loss | Probability\")\n",
    "print(\"-----+---------+------------\")\n",
    "for i in range(n):\n",
    "    print(f\"   {i} | {subseq_cum_HP_loss[0][i]:7d} | {subseq_p_win[0][i]:7f}\")\n",
    "\n",
    "print()\n",
    "print(\"Cumulative HP loss and cumulative probability of success of each step, starting from step 1\")\n",
    "print(\"step | HP loss | Probability\")\n",
    "print(\"-----+---------+------------\")\n",
    "for i in range(n):\n",
    "    print(f\"   {i} | {subseq_cum_HP_loss[0][i]:7d} | {subseq_cum_p_win[0][i]:7f}\")"
   ]
  },
  {
   "cell_type": "code",
   "execution_count": 6,
   "id": "b8656767",
   "metadata": {},
   "outputs": [
    {
     "name": "stdout",
     "output_type": "stream",
     "text": [
      "Expected health loss from ith step on A1:\n",
      "step | Expected health loss | Expected # of clicks\n",
      "-----+--------------------------------------------\n",
      "   1 | 11.3404052           | 2.6807311533203126\n",
      "   2 | 11.1205402           | 2.24097487109375\n",
      "   3 | 10.9546773           | 1.9091921093750002\n",
      "   4 | 10.8266859           | 1.6530765625000001\n",
      "   5 | 10.7259688           | 1.45128125\n",
      "   6 | 10.6456250           | 1.2893750000000002\n",
      "   7 | 10.5825000           | 1.1575000000000002\n",
      "   8 | 10.5500000           | 1.0500000000000003\n",
      "   9 | 11.0000000           | 1.0\n"
     ]
    }
   ],
   "source": [
    "Expected_HP_loss_A1 = np.zeros(n)  # ith entry is the expected HP loss until success from the ith step\n",
    "Expected_Num_clicks = np.zeros(n)  # ith entry is the expected number of clicks until success from the ith step\n",
    "\n",
    "for i in range(n):\n",
    "    # Calculate the expected health loss until success, starting from step i\n",
    "    Expected_HP_loss_A1[i] = 0\n",
    "    Expected_Num_clicks[i] = 0\n",
    "    for j in range(i, n):\n",
    "        # On step i, you can win at any step from i to n\n",
    "        # Sum the probability of succeeding on jth step * health cost of steps i to j, for each step from i to n\n",
    "        Expected_HP_loss_A1[i] += subseq_p_win[i][j] * sum(HP_loss_A1[i:j+1])\n",
    "        Expected_Num_clicks[i] += subseq_p_win[i][j] * (j-i+1)\n",
    "\n",
    "print(\"Expected health loss from ith step on A1:\")\n",
    "print(\"step | Expected health loss | Expected # of clicks\")\n",
    "print(\"-----+--------------------------------------------\")\n",
    "for i in range(n):\n",
    "    print(f\"   {i+1} | {Expected_HP_loss_A1[i]:.7f}           | {Expected_Num_clicks[i]}\")\n"
   ]
  },
  {
   "cell_type": "code",
   "execution_count": 7,
   "id": "985c2098",
   "metadata": {},
   "outputs": [
    {
     "name": "stdout",
     "output_type": "stream",
     "text": [
      "Expected health loss from ith step on A20:\n",
      "step | Expected health loss\n",
      "-----+--------------------\n",
      "   1 | 16.70186747363281\n",
      "   2 | 15.602489964843752\n",
      "   3 | 14.773061484375003\n",
      "   4 | 14.132839062500002\n",
      "   5 | 13.628531250000002\n",
      "   6 | 13.224375000000002\n",
      "   7 | 12.8975\n",
      "   8 | 12.650000000000002\n",
      "   9 | 13.0\n"
     ]
    }
   ],
   "source": [
    "Expected_HP_loss_A20 = np.zeros(n)  # ith entry is the expected HP loss until success from the ith step\n",
    "for i in range(n):\n",
    "    # Calculate the expected health loss until success, starting from step i\n",
    "    Expected_HP_loss_A20[i] = 0\n",
    "    for j in range(i, n):\n",
    "        # On step i, you can win at any step from i to n\n",
    "        # Sum the probability of succeeding on jth step * health cost of steps i to j, for each step from i to n\n",
    "        Expected_HP_loss_A20[i] += subseq_p_win[i][j] * sum(HP_loss_A20[i:j+1])\n",
    "\n",
    "print(\"Expected health loss from ith step on A20:\")\n",
    "print(\"step | Expected health loss\")\n",
    "print(\"-----+--------------------\")\n",
    "for i in range(n):\n",
    "    print(f\"   {i+1} | {Expected_HP_loss_A20[i]}\")\n"
   ]
  },
  {
   "cell_type": "code",
   "execution_count": 8,
   "id": "fed41aca",
   "metadata": {},
   "outputs": [
    {
     "data": {
      "image/png": "[encoded data removed]",
      "text/plain": [
       "<Figure size 960x720 with 1 Axes>"
      ]
     },
     "metadata": {},
     "output_type": "display_data"
    }
   ],
   "source": [
    "# Plot Cumulative HP Loss Distribution Function\n",
    "fig, ax = plt.subplots(dpi=150)\n",
    "\n",
    "# Formatting\n",
    "plt.title(\"Cumulative HP Loss Distribution Function\", fontsize=18)\n",
    "plt.ylabel(\"Probability\", fontsize=14)\n",
    "plt.xlabel(\"Cumulative HP Loss\", fontsize=14)\n",
    "ax.set_facecolor(\"#fff2cc\")\n",
    "fig.patch.set_facecolor('#fff2cc')\n",
    "plt.xlim([-2,66])\n",
    "plt.ylim([-0.05, 1.05])\n",
    "\n",
    "y_ticks = np.concatenate(([0], subseq_cum_p_win[0][0:5], [1]))\n",
    "y_tick_labels = np.array([f\"{x*100:.2f}\".rstrip(\"0\").rstrip(\".\")+\"%\" for x in y_ticks])\n",
    "\n",
    "plt.xticks(np.concatenate(([0], subseq_cum_HP_loss[0])))\n",
    "plt.yticks(ticks=y_ticks, labels=y_tick_labels)\n",
    "\n",
    "# Plotting\n",
    "for i in range(n):\n",
    "    # Plot points and horizontal lines\n",
    "    if i == 0:\n",
    "        plt.plot([subseq_cum_HP_loss[0][0]], [0], 'k.', fillstyle=\"none\", ms=10)\n",
    "        plt.plot([subseq_cum_HP_loss[0][0]], [subseq_cum_p_win[0][0]], 'k.', ms=10)\n",
    "        plt.vlines(x=subseq_cum_HP_loss[0][0], ymin=0, ymax=subseq_cum_p_win[0][0],\n",
    "               colors='k', linestyles='--')\n",
    "        plt.hlines(y=0, xmin=-2, xmax=subseq_cum_HP_loss[0][0],\n",
    "                   colors='k')\n",
    "    else:\n",
    "        plt.plot([subseq_cum_HP_loss[0][i]], [subseq_cum_p_win[0][i-1]], 'k.', fillstyle=\"none\", ms=10)\n",
    "        plt.plot([subseq_cum_HP_loss[0][i]], [subseq_cum_p_win[0][i]], 'k.', ms=10)\n",
    "        plt.vlines(x=subseq_cum_HP_loss[0][i], ymin=subseq_cum_p_win[0][i-1], ymax=subseq_cum_p_win[0][i],\n",
    "               colors='k', linestyles='--')\n",
    "        plt.hlines(y=subseq_cum_p_win[0][i-1], xmin=subseq_cum_HP_loss[0][i-1], xmax=subseq_cum_HP_loss[0][i],\n",
    "                   colors='k')\n",
    "    plt.hlines(y=1, xmin=63, xmax=70, colors='k')\n",
    "\n",
    "    # Axes\n",
    "    # plt.hlines(y=0, xmin=-10, xmax=70, color='k', linewidth=0.5, linestyle='-')\n",
    "    # plt.vlines(x=0, ymin=-0.05, ymax=1.05, color='k', linewidth=0.5, linestyle='-')\n",
    "        \n",
    "plt.savefig(\"Cumulative HP Loss Distribution Function\")"
   ]
  },
  {
   "cell_type": "code",
   "execution_count": null,
   "id": "37b5ebea",
   "metadata": {},
   "outputs": [
    {
     "name": "stdout",
     "output_type": "stream",
     "text": [
      "[[-0.05       -0.1875     -0.468125   -0.92065625 -1.54222969 -2.31055742\n",
      "  -3.20158361 -4.20007918 -5.3       ]\n",
      " [-0.02272727 -0.12386364 -0.35903409 -0.75701989 -1.31495696 -2.01055742\n",
      "  -2.81976543 -3.72735191 -4.72727273]\n",
      " [ 0.         -0.07083333 -0.268125   -0.62065625 -1.12556302 -1.76055742\n",
      "  -2.50158361 -3.33341251 -4.25      ]\n",
      " [ 0.01923077 -0.02596154 -0.19120192 -0.50527163 -0.96530661 -1.54901896\n",
      "  -2.23235284 -3.00007918 -3.84615385]\n",
      " [ 0.03571429  0.0125     -0.12526786 -0.40637054 -0.82794397 -1.36770028\n",
      "  -2.00158361 -2.71436489 -3.5       ]\n",
      " [ 0.05        0.04583333 -0.068125   -0.32065625 -0.70889635 -1.21055742\n",
      "  -1.80158361 -2.46674585 -3.2       ]\n",
      " [ 0.0625      0.075      -0.018125   -0.24565625 -0.60472969 -1.07305742\n",
      "  -1.62658361 -2.25007918 -2.9375    ]\n",
      " [ 0.07352941  0.10073529  0.02599265 -0.17947978 -0.51281792 -0.95173389\n",
      "  -1.47217185 -2.05890271 -2.70588235]\n",
      " [ 0.08333333  0.12361111  0.06520833 -0.12065625 -0.43111858 -0.84389076\n",
      "  -1.33491695 -1.88896807 -2.5       ]]\n",
      "[[-0.05       -0.05       -0.05       -0.05       -0.05       -0.05\n",
      "  -0.05       -0.05       -0.1       ]\n",
      " [-0.02272727 -0.01363636 -0.00454545  0.00454545  0.01363636  0.02272727\n",
      "   0.03181818  0.04090909  0.        ]\n",
      " [ 0.          0.01666667  0.03333333  0.05        0.06666667  0.08333333\n",
      "   0.1         0.11666667  0.08333333]\n",
      " [ 0.01923077  0.04230769  0.06538462  0.08846154  0.11153846  0.13461538\n",
      "   0.15769231  0.18076923  0.15384615]\n",
      " [ 0.03571429  0.06428571  0.09285714  0.12142857  0.15        0.17857143\n",
      "   0.20714286  0.23571429  0.21428571]\n",
      " [ 0.05        0.08333333  0.11666667  0.15        0.18333333  0.21666667\n",
      "   0.25        0.28333333  0.26666667]\n",
      " [ 0.0625      0.1         0.1375      0.175       0.2125      0.25\n",
      "   0.2875      0.325       0.3125    ]\n",
      " [ 0.07352941  0.11470588  0.15588235  0.19705882  0.23823529  0.27941176\n",
      "   0.32058824  0.36176471  0.35294118]\n",
      " [ 0.08333333  0.12777778  0.17222222  0.21666667  0.26111111  0.30555556\n",
      "   0.35        0.39444444  0.38888889]]\n"
     ]
    }
   ],
   "source": [
    "# If I assign an HP value to a relic, I want to know my expected value in terms of relics at each step\n",
    "relic_value_in_HP = np.arange(10,20)\n",
    "cum_reward_value_at_step = np.zeros((n, n))\n",
    "reward_value_at_step = np.zeros((n, n))\n",
    "\n",
    "for i in range(n):\n",
    "    for j in range(n):\n",
    "        cum_reward_value_at_step[i][j] = subseq_cum_p_win[0][j] - subseq_cum_HP_loss[0][j]/relic_value_in_HP[i]\n",
    "        reward_value_at_step[i][j] = p_success[j] - HP_loss_A1[j]/relic_value_in_HP[i]\n",
    "\n",
    "print(cum_reward_value_at_step)\n",
    "print(reward_value_at_step)\n",
    "# This seems to be nonsense\n"
   ]
  },
  {
   "cell_type": "code",
   "execution_count": null,
   "id": "ef2a2f99",
   "metadata": {},
   "outputs": [],
   "source": []
  },
  {
   "cell_type": "code",
   "execution_count": null,
   "id": "e145b4e1",
   "metadata": {},
   "outputs": [],
   "source": []
  }
 ],
 "metadata": {
  "kernelspec": {
   "display_name": "Python 3",
   "language": "python",
   "name": "python3"
  },
  "language_info": {
   "codemirror_mode": {
    "name": "ipython",
    "version": 3
   },
   "file_extension": ".py",
   "mimetype": "text/x-python",
   "name": "python",
   "nbconvert_exporter": "python",
   "pygments_lexer": "ipython3",
   "version": "3.13.5"
  }
 },
 "nbformat": 4,
 "nbformat_minor": 5
}
